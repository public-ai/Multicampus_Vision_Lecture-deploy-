{
 "cells": [
  {
   "cell_type": "markdown",
   "metadata": {},
   "source": [
    "# \\[ Detection 개괄 \\]\n",
    "---\n",
    "---\n",
    "\n",
    "Object Detection이라 불리는 주제는 크게 아래와 같이 나누어 볼 수 있습니다.\n",
    "![Imgur](https://i.imgur.com/zw1RcyO.png)\n",
    "\n",
    "크게 위치 정보의 형태가 Bounding Box로 주어지는 Generic Object Detection과 Heat Map, 즉 Pixel 단위로 주어지는 Salient Object Detection으로 나뉘어 집니다.\n",
    "\n",
    "두 주제 중 좀 더 현실 세계에서 잘 적용할 수 있는 형태는 Generic Object Detection이고, 이 테마에 대한 연구가 우선적으로 이루어졌습니다. Generic Object Detection은 Task 별로 속성이 다른데, 영상 속 사물의 크기가 매우 다른 Multi-Scale 이슈, 아니면 사물의 형태가 회전에 민감한 Multi-Angle 이슈, 사물의 특징이 매우 다양한 Multi-Feature 이슈등이 있습니다. 모델마다 각각의 이슈에 맞게 Tuning해야 합니다.\n"
   ]
  },
  {
   "cell_type": "markdown",
   "metadata": {},
   "source": [
    "![Imgur](https://i.imgur.com/6yFd1kQ.png)\n",
    "\n",
    "Object Detection에는 크게 2개로 이루어져 있습니다. Region Proposal Based, 혹은 Two-Stage Detector로 불리는 모델과, Regression/Classification Based, 혹은 One-Stage Detector로 불리는 모델로 나뉘어져 있습니다. 이 두 모델은 서로 영향을 미치며 서로 고도의 발전을 이루어왔고, 현재 대표적인 모델로는 위와 같은 것들이 존재합니다.\n",
    "\n"
   ]
  },
  {
   "cell_type": "markdown",
   "metadata": {},
   "source": [
    "![Imgur](https://i.imgur.com/QWY0BmW.png)\n",
    "\n",
    "두 모델은 쉽게 생각하여 Trade-OFF 관계에 놓여져 있습니다. Two-Stage는 보다 정확도를 중요시 여길 때, One-Stage는 보다 속도를 중요시 여기는 모델이라고 생각하면 됩니다. "
   ]
  },
  {
   "cell_type": "markdown",
   "metadata": {},
   "source": [
    "![Imgur](https://i.imgur.com/MauNY2T.png)"
   ]
  },
  {
   "cell_type": "markdown",
   "metadata": {},
   "source": [
    "---\n",
    "⊙ Copyright(c) 2020 by PublicAI. All rights reserved <br>\n",
    "All pictures, codes, writings cannot be copied without permission. <br>\n",
    "Writen by PAI(info@publicai.co.kr) <br>\n",
    "last updated on 2020/01/4 <br>\n",
    "\n",
    "---"
   ]
  }
 ],
 "metadata": {
  "kernelspec": {
   "display_name": "Python 3",
   "language": "python",
   "name": "python3"
  },
  "language_info": {
   "codemirror_mode": {
    "name": "ipython",
    "version": 3
   },
   "file_extension": ".py",
   "mimetype": "text/x-python",
   "name": "python",
   "nbconvert_exporter": "python",
   "pygments_lexer": "ipython3",
   "version": "3.6.8"
  }
 },
 "nbformat": 4,
 "nbformat_minor": 2
}
